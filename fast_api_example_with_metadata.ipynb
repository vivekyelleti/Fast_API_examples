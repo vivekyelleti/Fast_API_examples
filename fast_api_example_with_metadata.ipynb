{
 "cells": [
  {
   "cell_type": "code",
   "execution_count": 11,
   "id": "3783f338",
   "metadata": {},
   "outputs": [],
   "source": [
    "from fastapi import FastAPI\n",
    "\n",
    "description = \"\"\"\n",
    "FAST API App API helps you do awesome stuff. 🚀\n",
    "\n",
    "## Items\n",
    "\n",
    "You can **read items**.\n",
    "\n",
    "## Users\n",
    "\n",
    "You will be able to:\n",
    "\n",
    "* **Create users** (_not implemented_).\n",
    "* **Read users** (_not implemented_).\n",
    "\"\"\""
   ]
  },
  {
   "cell_type": "code",
   "execution_count": 12,
   "id": "401402c2",
   "metadata": {},
   "outputs": [],
   "source": [
    "\n",
    "\n",
    "app = FastAPI(\n",
    "    title=\"Fast API App\",\n",
    "    description=description,\n",
    "    version=\"0.0.1\",\n",
    "    terms_of_service=\"document file link\",\n",
    "    contact={\n",
    "        \"name\": \"Vicky\",\n",
    "        \"url\": \"https://github.com/vivekyelleti\",\n",
    "        \"email\": \"vivekvvy3@gmail.com\",\n",
    "    },\n",
    "    license_info={\n",
    "        \"name\": \"Apache 2.0\",\n",
    "        \"url\": \"https://www.apache.org/licenses/LICENSE-2.0.html\",\n",
    "    },\n",
    ")"
   ]
  },
  {
   "cell_type": "code",
   "execution_count": 13,
   "id": "ec8acea9",
   "metadata": {},
   "outputs": [],
   "source": [
    "\n",
    "@app.get(\"/items/\")\n",
    "async def read_items():\n",
    "    return [{\"name\": \"Vicky\"}]\n"
   ]
  },
  {
   "cell_type": "markdown",
   "id": "a976425d",
   "metadata": {},
   "source": [
    "# Patch Event Loop and start server"
   ]
  },
  {
   "cell_type": "code",
   "execution_count": 14,
   "id": "855d6047",
   "metadata": {
    "scrolled": true
   },
   "outputs": [
    {
     "name": "stderr",
     "output_type": "stream",
     "text": [
      "INFO:     Started server process [16912]\n",
      "INFO:     Waiting for application startup.\n",
      "INFO:     Application startup complete.\n",
      "INFO:     Uvicorn running on http://127.0.0.1:8000 (Press CTRL+C to quit)\n"
     ]
    },
    {
     "name": "stdout",
     "output_type": "stream",
     "text": [
      "INFO:     127.0.0.1:19017 - \"GET / HTTP/1.1\" 404 Not Found\n",
      "INFO:     127.0.0.1:19017 - \"GET /docs HTTP/1.1\" 200 OK\n"
     ]
    },
    {
     "name": "stderr",
     "output_type": "stream",
     "text": [
      "email-validator not installed, email fields will be treated as str.\n",
      "To install, run: pip install email-validator\n"
     ]
    },
    {
     "name": "stdout",
     "output_type": "stream",
     "text": [
      "INFO:     127.0.0.1:19017 - \"GET /openapi.json HTTP/1.1\" 200 OK\n"
     ]
    },
    {
     "name": "stderr",
     "output_type": "stream",
     "text": [
      "INFO:     Shutting down\n",
      "INFO:     Waiting for application shutdown.\n",
      "INFO:     Application shutdown complete.\n",
      "INFO:     Finished server process [16912]\n"
     ]
    }
   ],
   "source": [
    "import nest_asyncio\n",
    "import uvicorn\n",
    "\n",
    "nest_asyncio.apply()\n",
    "uvicorn.run(app, port=8000)"
   ]
  },
  {
   "cell_type": "code",
   "execution_count": null,
   "id": "3ad31524",
   "metadata": {},
   "outputs": [],
   "source": []
  }
 ],
 "metadata": {
  "kernelspec": {
   "display_name": "Python 3 (ipykernel)",
   "language": "python",
   "name": "python3"
  },
  "language_info": {
   "codemirror_mode": {
    "name": "ipython",
    "version": 3
   },
   "file_extension": ".py",
   "mimetype": "text/x-python",
   "name": "python",
   "nbconvert_exporter": "python",
   "pygments_lexer": "ipython3",
   "version": "3.9.7"
  }
 },
 "nbformat": 4,
 "nbformat_minor": 5
}
