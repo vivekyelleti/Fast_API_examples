{
 "cells": [
  {
   "cell_type": "code",
   "execution_count": 1,
   "id": "4b5425e5",
   "metadata": {},
   "outputs": [],
   "source": [
    "from fastapi import FastAPI\n",
    "import uvicorn\n",
    "from sklearn.datasets import load_iris\n",
    "from sklearn.naive_bayes import GaussianNB\n",
    "from pydantic import BaseModel\n",
    "\n",
    "# Creating FastAPI instance\n",
    "app = FastAPI()\n",
    "\n",
    "# Creating class to define the request body\n",
    "# and the type hints of each attribute\n",
    "class request_body(BaseModel):\n",
    "\tsepal_length : float\n",
    "\tsepal_width : float\n",
    "\tpetal_length : float\n",
    "\tpetal_width : float\n",
    "\n",
    "# Loading Iris Dataset\n",
    "iris = load_iris()\n",
    "\n",
    "# Getting our Features and Targets\n",
    "X = iris.data\n",
    "Y = iris.target\n",
    "\n",
    "# Creating and Fitting our Model\n",
    "clf = GaussianNB()\n",
    "clf.fit(X,Y)\n",
    "\n",
    "# Creating an Endpoint to receive the data\n",
    "# to make prediction on.\n",
    "@app.post('/predict')\n",
    "def predict(data : request_body):\n",
    "\t# Making the data in a form suitable for prediction\n",
    "\ttest_data = [[\n",
    "\t\t\tdata.sepal_length,\n",
    "\t\t\tdata.sepal_width,\n",
    "\t\t\tdata.petal_length,\n",
    "\t\t\tdata.petal_width\n",
    "\t]]\n",
    "\t\n",
    "\t# Predicting the Class\n",
    "\tclass_idx = clf.predict(test_data)[0]\n",
    "\t\n",
    "\t# Return the Result\n",
    "\treturn { 'class' : iris.target_names[class_idx]}"
   ]
  },
  {
   "cell_type": "markdown",
   "id": "ad0c1233",
   "metadata": {},
   "source": [
    "# Start ngrok tunnel"
   ]
  },
  {
   "cell_type": "code",
   "execution_count": 2,
   "id": "1597ef4b",
   "metadata": {
    "scrolled": true
   },
   "outputs": [],
   "source": [
    "# from pyngrok import ngrok\n",
    "\n",
    "# ngrok_tunnel = ngrok.connect(8000)\n",
    "\n",
    "# ngrok_tunnel"
   ]
  },
  {
   "cell_type": "code",
   "execution_count": 3,
   "id": "6c13b581",
   "metadata": {},
   "outputs": [
    {
     "name": "stdout",
     "output_type": "stream",
     "text": [
      "fastapi                            0.78.0\n",
      "starlette                          0.19.1\n",
      "uvicorn                            0.17.6\n",
      "Note: you may need to restart the kernel to use updated packages.\n"
     ]
    }
   ],
   "source": [
    "%pip list | grep -E \"fastapi|starlette|uvicorn\""
   ]
  },
  {
   "cell_type": "markdown",
   "id": "550a7d23",
   "metadata": {},
   "source": [
    "# Patch Event Loop and start server"
   ]
  },
  {
   "cell_type": "code",
   "execution_count": null,
   "id": "ea00528b",
   "metadata": {
    "scrolled": false
   },
   "outputs": [
    {
     "name": "stderr",
     "output_type": "stream",
     "text": [
      "INFO:     Started server process [15856]\n",
      "INFO:     Waiting for application startup.\n",
      "INFO:     Application startup complete.\n",
      "INFO:     Uvicorn running on http://127.0.0.1:8000 (Press CTRL+C to quit)\n"
     ]
    },
    {
     "name": "stdout",
     "output_type": "stream",
     "text": [
      "INFO:     127.0.0.1:18847 - \"GET / HTTP/1.1\" 404 Not Found\n",
      "INFO:     127.0.0.1:18847 - \"GET /docs HTTP/1.1\" 200 OK\n",
      "INFO:     127.0.0.1:18847 - \"GET /openapi.json HTTP/1.1\" 200 OK\n",
      "INFO:     127.0.0.1:18848 - \"POST /predict HTTP/1.1\" 422 Unprocessable Entity\n",
      "INFO:     127.0.0.1:18870 - \"POST /predict HTTP/1.1\" 422 Unprocessable Entity\n"
     ]
    }
   ],
   "source": [
    "import nest_asyncio\n",
    "import uvicorn\n",
    "\n",
    "nest_asyncio.apply()\n",
    "uvicorn.run(app, port=8000)"
   ]
  },
  {
   "cell_type": "code",
   "execution_count": null,
   "id": "ebf29755",
   "metadata": {},
   "outputs": [],
   "source": []
  }
 ],
 "metadata": {
  "kernelspec": {
   "display_name": "Python 3 (ipykernel)",
   "language": "python",
   "name": "python3"
  },
  "language_info": {
   "codemirror_mode": {
    "name": "ipython",
    "version": 3
   },
   "file_extension": ".py",
   "mimetype": "text/x-python",
   "name": "python",
   "nbconvert_exporter": "python",
   "pygments_lexer": "ipython3",
   "version": "3.9.7"
  }
 },
 "nbformat": 4,
 "nbformat_minor": 5
}
