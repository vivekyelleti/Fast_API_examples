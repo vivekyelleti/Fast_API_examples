{
 "cells": [
  {
   "cell_type": "code",
   "execution_count": 7,
   "id": "75e872ae",
   "metadata": {},
   "outputs": [],
   "source": [
    "#!pip install fastapi uvicorn\n",
    "#!pip install pyngrok nest_asyncio fastapi loguru"
   ]
  },
  {
   "cell_type": "code",
   "execution_count": 6,
   "id": "be4e63e6",
   "metadata": {},
   "outputs": [],
   "source": [
    "# References : https://gist.github.com/raveenb/c0001484a79214c21785227d0688f57f"
   ]
  },
  {
   "cell_type": "markdown",
   "id": "f9fa4a35",
   "metadata": {},
   "source": [
    "# Create a FastAPI app"
   ]
  },
  {
   "cell_type": "code",
   "execution_count": 3,
   "id": "98b4e8ba",
   "metadata": {},
   "outputs": [],
   "source": [
    "# Importing Necessary modules\n",
    "from fastapi import FastAPI\n",
    "import uvicorn\n",
    "\n",
    "# Declaring our FastAPI instance\n",
    "app = FastAPI()\n",
    "\n",
    "# Defining path operation for root endpoint\n",
    "@app.get('/')\n",
    "def main():\n",
    "\treturn {'message': 'Welcome to Fast API!'}\n",
    "\n",
    "# Defining path operation for /name endpoint\n",
    "@app.get('/{name}')\n",
    "def hello_name(name : str):\n",
    "\t# Defining a function that takes only string as input and output the\n",
    "\t# following message.\n",
    "\treturn {'message': f'Welcome to Fast API!, {name}'}\n"
   ]
  },
  {
   "cell_type": "markdown",
   "id": "d2053c74",
   "metadata": {},
   "source": [
    "# Start ngrok tunnel"
   ]
  },
  {
   "cell_type": "code",
   "execution_count": 11,
   "id": "17e182c1",
   "metadata": {},
   "outputs": [],
   "source": [
    "# from pyngrok import ngrok\n",
    "\n",
    "# ngrok_tunnel = ngrok.connect(8000)\n",
    "\n",
    "# ngrok_tunnel"
   ]
  },
  {
   "cell_type": "markdown",
   "id": "a976425d",
   "metadata": {},
   "source": [
    "# Patch Event Loop and start server"
   ]
  },
  {
   "cell_type": "code",
   "execution_count": 10,
   "id": "855d6047",
   "metadata": {},
   "outputs": [
    {
     "name": "stderr",
     "output_type": "stream",
     "text": [
      "INFO:     Started server process [18152]\n",
      "INFO:     Waiting for application startup.\n",
      "INFO:     Application startup complete.\n",
      "INFO:     Uvicorn running on http://127.0.0.1:8000 (Press CTRL+C to quit)\n"
     ]
    },
    {
     "name": "stdout",
     "output_type": "stream",
     "text": [
      "INFO:     127.0.0.1:18732 - \"GET / HTTP/1.1\" 200 OK\n",
      "INFO:     127.0.0.1:18732 - \"GET /favicon.ico HTTP/1.1\" 200 OK\n",
      "INFO:     127.0.0.1:18732 - \"GET /name HTTP/1.1\" 200 OK\n",
      "INFO:     127.0.0.1:18732 - \"GET /favicon.ico HTTP/1.1\" 200 OK\n",
      "INFO:     127.0.0.1:18732 - \"GET /vivek HTTP/1.1\" 200 OK\n",
      "INFO:     127.0.0.1:18732 - \"GET /favicon.ico HTTP/1.1\" 200 OK\n"
     ]
    },
    {
     "name": "stderr",
     "output_type": "stream",
     "text": [
      "INFO:     Shutting down\n",
      "INFO:     Waiting for application shutdown.\n",
      "INFO:     Application shutdown complete.\n",
      "INFO:     Finished server process [18152]\n"
     ]
    }
   ],
   "source": [
    "import nest_asyncio\n",
    "import uvicorn\n",
    "\n",
    "nest_asyncio.apply()\n",
    "uvicorn.run(app, port=8000)"
   ]
  },
  {
   "cell_type": "code",
   "execution_count": null,
   "id": "65d6b051",
   "metadata": {},
   "outputs": [],
   "source": []
  }
 ],
 "metadata": {
  "kernelspec": {
   "display_name": "Python 3 (ipykernel)",
   "language": "python",
   "name": "python3"
  },
  "language_info": {
   "codemirror_mode": {
    "name": "ipython",
    "version": 3
   },
   "file_extension": ".py",
   "mimetype": "text/x-python",
   "name": "python",
   "nbconvert_exporter": "python",
   "pygments_lexer": "ipython3",
   "version": "3.9.7"
  }
 },
 "nbformat": 4,
 "nbformat_minor": 5
}
